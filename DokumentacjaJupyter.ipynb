{
 "cells": [
  {
   "cell_type": "markdown",
   "metadata": {},
   "source": [
    "<h3>Kilka przykladowych metod matematycznych wraz z ich dokumentacja przygotowaną w Jupyter :</h3>"
   ]
  },
  {
   "cell_type": "markdown",
   "metadata": {},
   "source": [
    "<b>1) Liczba pierwsza</b><br>\n",
    "Metoda przyjmuję na wejście liczbę całkowitą i sprawdza czy jest liczba pierwszą :"
   ]
  },
  {
   "cell_type": "code",
   "execution_count": 22,
   "metadata": {},
   "outputs": [
    {
     "name": "stdout",
     "output_type": "stream",
     "text": [
      "5 jest liczbą pierwszą\n"
     ]
    }
   ],
   "source": [
    "number = 5 # zmienna którą chcemy sprawdzić\n",
    "\n",
    "# Nastepuje sprawdzenie : \n",
    "if number > 1:\n",
    "   for i in range(2,number):\n",
    "       if (number % i) == 0:\n",
    "           print(number,\"nie jest liczbą pierwszą\") # wypisanie wyniku jeśli liczba jest wieszka od 1 ale nie jest pierwszą\n",
    "           break\n",
    "   else:\n",
    "       print(number,\"jest liczbą pierwszą\") # wypisanie wyniku jeśli liczba jest pierszą\n",
    "       \n",
    "else:\n",
    "   print(number,\"nie jest liczbą pierwszą\")# wypisanie wyniku jeśli liczba jest mniejsza od 1 ale nie jest pierwszą"
   ]
  },
  {
   "cell_type": "markdown",
   "metadata": {},
   "source": [
    "<b>2)Wszystkie liczby pierwsze z podanego zakresu<br></b>\n",
    "\n",
    "Metoda przyjmuję na wejsciu 2 liczby całkowite i wypisuje wszystkie liczby pierwsze z podanego zakresu : \n",
    " "
   ]
  },
  {
   "cell_type": "code",
   "execution_count": 23,
   "metadata": {},
   "outputs": [
    {
     "name": "stdout",
     "output_type": "stream",
     "text": [
      "Pierwsze liczby z przedziału od 1 do 20 to:\n",
      "2\n",
      "3\n",
      "5\n",
      "7\n",
      "11\n",
      "13\n",
      "17\n",
      "19\n"
     ]
    }
   ],
   "source": [
    "lowerNum = 1 # dolna granica przedziału\n",
    "upperNum = 20 # górna granica przedziału\n",
    "\n",
    "print(\"Pierwsze liczby z przedziału od\", lowerNum, \"do\", upperNum, \"to:\")\n",
    "for number in range(lowerNum, upperNum + 1):  \n",
    "   if number > 1: # wszystkie liczby pierwsze są wieksze od 1\n",
    "       for i in range(2, number):\n",
    "           if (number % i) == 0: # jesli reszta z dzielenia jest rowna 0 przerywamy i sprawdzamy liczbe nastepną\n",
    "               break\n",
    "       else:\n",
    "           print(number) # wypisujemy liczbę \n"
   ]
  },
  {
   "cell_type": "markdown",
   "metadata": {},
   "source": [
    "<b>3)Najmniejsza wspólna wielokrotność </b><br>\n",
    "Metoda ktora na wejście przyjmuję 2 liczby calkowite i podaje dla nich najmniejszą wspolną wielokrotność :"
   ]
  },
  {
   "cell_type": "code",
   "execution_count": 24,
   "metadata": {},
   "outputs": [
    {
     "name": "stdout",
     "output_type": "stream",
     "text": [
      "Najmniejsza wspólna wielokrotność liczby 10 i 21 to : 210\n"
     ]
    }
   ],
   "source": [
    "numberOne = 10\n",
    "numberTwo = 21\n",
    "\n",
    "   # ustalamy ktora liczba jest większa\n",
    "if numberOne > numberTwo:\n",
    "       greater = numberOne\n",
    "else:\n",
    "       greater = numberTwo\n",
    "while(True): # Uruchamiamy pętle w której sprawdzamy czy reszta z dzielenia liczby wiekszej i mniejszej jest jednoczesnie równa 0 jeśli tak przypisujemy ją do zmiennej nww\n",
    "    if((greater % numberOne == 0) and (greater % numberTwo == 0)): \n",
    "            nww = greater\n",
    "            break\n",
    "    greater += 1 # Jeśli nie inkrementujemy zmienną\n",
    "   \n",
    "\n",
    "print(\"Najmniejsza wspólna wielokrotność liczby\",numberOne,\"i\",numberTwo,\"to :\",nww,)"
   ]
  },
  {
   "cell_type": "markdown",
   "metadata": {},
   "source": [
    "<b>4) Dzielniki liczby  <br></b>\n",
    "Metoda przyjmuję na wejście 3 liczby całkowite.</br>\n",
    "Pierwsza z nich to dolny zakres zbioru , druga górny zakres zbioru z którego sprawdzamy wszystkie liczby podzielne przez liczbę trzecią."
   ]
  },
  {
   "cell_type": "code",
   "execution_count": 25,
   "metadata": {},
   "outputs": [
    {
     "name": "stdout",
     "output_type": "stream",
     "text": [
      "Liczby podzielne z zakresu od 1 do 100 z liczby 20 to [20, 40, 60, 80, 100]\n"
     ]
    }
   ],
   "source": [
    "lowerNum = 1\n",
    "upperNum = 100 \n",
    "dividend = 20 \n",
    "\n",
    "\n",
    "_list = range(lowerNum,upperNum+1) # ustalamy listę zakresem od liczby najmniejszej do najwiekszej\n",
    "\n",
    "result = list(filter(lambda x: (x % dividend == 0), _list)) # przy pomocy funkcji anonimowej filtrujemy listę\n",
    "\n",
    "print(\"Liczby podzielne z zakresu od\",lowerNum,\"do\",upperNum,\"z liczby\",dividend,\"to\",result,) # wyświetlamy wynik"
   ]
  },
  {
   "cell_type": "markdown",
   "metadata": {},
   "source": [
    "5) <b>Dodawanie macierzy</b><br>\n",
    "Metoda przy pomocy zagnieżdżonych petli dodaje macierze."
   ]
  },
  {
   "cell_type": "code",
   "execution_count": 26,
   "metadata": {},
   "outputs": [
    {
     "name": "stdout",
     "output_type": "stream",
     "text": [
      "[3, 4, 5]\n",
      "[6, 5, 4]\n",
      "[16, 17, 18]\n"
     ]
    }
   ],
   "source": [
    "X = [[2,3,4], # pierwsza macierz\n",
    "    [4,3,2],\n",
    "    [9 ,9,9]]\n",
    "\n",
    "Y = [[1,1,1], # druga macierz\n",
    "    [2,2,2],\n",
    "    [7,8,9]]\n",
    "\n",
    "result = [[0,0,0], # macierz wyniku\n",
    "         [0,0,0],\n",
    "         [0,0,0]]\n",
    "\n",
    "for i in range(len(X)): # iteracja po rzedach\n",
    "   for j in range(len(X[0])): # iteracja po kolumnach\n",
    "       result[i][j] = X[i][j] + Y[i][j] # dodanie macierzy i zapisanie wyniku w macierzy wyników\n",
    "for r in result:\n",
    "   print(r)# wypisanie wartości użytkownikowi"
   ]
  },
  {
   "cell_type": "markdown",
   "metadata": {},
   "source": [
    "<b>6) Transponowanie podanej macierzy</b><br>\n",
    "Program na wejście przyjmuję macierz kwadratową stopnia trzeciego."
   ]
  },
  {
   "cell_type": "code",
   "execution_count": 28,
   "metadata": {},
   "outputs": [
    {
     "name": "stdout",
     "output_type": "stream",
     "text": [
      "[8, 2, 5]\n",
      "[1, 5, 8]\n"
     ]
    }
   ],
   "source": [
    "X = [[8,1], # macierz do transpozycji\n",
    "    [2 ,5],\n",
    "    [5 ,8]]\n",
    "\n",
    "result = [[0,0,0], # macierz wyniku\n",
    "         [0,0,0]]\n",
    "\n",
    "for i in range(len(X)): #iteracja po rzędach\n",
    "   for j in range(len(X[0])):# iteracja po kolumnach\n",
    "       result[j][i] = X[i][j] # zapisanie zmiennej z macierzy X do zmiennej z macierzy Y\n",
    "for r in result:\n",
    "   print(r) # wypisanie macierzy po transpozycji"
   ]
  }
 ],
 "metadata": {
  "kernelspec": {
   "display_name": "Python 3",
   "language": "python",
   "name": "python3"
  },
  "language_info": {
   "codemirror_mode": {
    "name": "ipython",
    "version": 3
   },
   "file_extension": ".py",
   "mimetype": "text/x-python",
   "name": "python",
   "nbconvert_exporter": "python",
   "pygments_lexer": "ipython3",
   "version": "3.7.4"
  }
 },
 "nbformat": 4,
 "nbformat_minor": 2
}
